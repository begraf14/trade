{
 "cells": [
  {
   "cell_type": "code",
   "execution_count": 1,
   "id": "aa3d0da0",
   "metadata": {
    "scrolled": true
   },
   "outputs": [],
   "source": [
    "from selenium import webdriver\n",
    "from time import sleep\n",
    "from selenium.webdriver.common.by import By\n",
    "import pandas as pd\n",
    "\n",
    "# enter website\n",
    "driver = webdriver.Firefox()\n",
    "driver.get(\"https://fxssi.com/login\") \n",
    "\n",
    "\n",
    "# username,password\n",
    "username = \"berkdegerli@hotmail.com\"\n",
    "password = \"berkberk847\"\n",
    "\n",
    "# log in\n",
    "username_textbox = driver.find_element(By.NAME, \"email\")\n",
    "username_textbox.send_keys(username)\n",
    "\n",
    "password_textbox = driver.find_element(By.NAME, \"password\")\n",
    "password_textbox.send_keys(password)\n",
    "\n",
    "login_button = driver.find_element(By.XPATH, \"/html/body/div/div[2]/div[1]/div/form/button\")\n",
    "login_button.click()"
   ]
  },
  {
   "cell_type": "code",
   "execution_count": 2,
   "id": "8c2fa00c",
   "metadata": {},
   "outputs": [],
   "source": [
    "# open tools\n",
    "\n",
    "main_page=driver.find_element(By.XPATH, \"/html/body/div/div[1]/a[1]/img\")\n",
    "main_page.click()\n",
    "    \n",
    "tools=driver.find_element(By.XPATH, \"/html/body/div[1]/div[1]/header/div/div[2]/div/ul/li[4]/a\")\n",
    "tools.click()"
   ]
  },
  {
   "cell_type": "code",
   "execution_count": 3,
   "id": "c995e026",
   "metadata": {},
   "outputs": [],
   "source": [
    "# order book\n",
    "\n",
    "order_book=driver.find_element(By.XPATH, \"/html/body/div[1]/div[2]/div/div[1]/div/div/div/div[4]/div/div/div[2]/div[3]/a\")\n",
    "order_book.click()\n",
    "sleep(5)"
   ]
  },
  {
   "cell_type": "code",
   "execution_count": 4,
   "id": "e32dc374",
   "metadata": {},
   "outputs": [],
   "source": [
    "arrow_down=driver.find_element(By.XPATH, \"/html/body/div[1]/div[2]/div[3]/div[1]/div[2]/div[3]/div[1]/div[1]/div[1]/a[2]/i\")\n",
    "driver.execute_script(\"arguments[0].scrollIntoView();\", arrow_down)"
   ]
  },
  {
   "cell_type": "code",
   "execution_count": 5,
   "id": "6c60e0fd",
   "metadata": {
    "scrolled": true
   },
   "outputs": [],
   "source": [
    "def sell_limit():\n",
    "    \n",
    "    global data_list \n",
    "    data_list = []\n",
    "\n",
    "\n",
    "    # !!!gelen fiyat verisi EURUSD için 5 rakama göre ayarlandı Örn:1.1295 ya da 1.1300\n",
    "\n",
    "    while True:\n",
    "        \n",
    "        try:\n",
    " \n",
    "            volume_dragger_0=float(driver.find_element(By.XPATH, \"/html/body/div[1]/div[2]/div[3]/div[1]/div[2]/div[3]/div[2]/div[1]/div[1]\").text)\n",
    "            order_book_volume_percent_n0_0=float(str(driver.find_element(By.XPATH, \"/html/body/div[1]/div[2]/div[3]/div[1]/div[2]/div[3]/div[2]/div[1]/div[2]/div[1]\").text)[:-1])\n",
    "            \n",
    "            driver.execute_script(\"arguments[0].click();\",arrow_down)\n",
    "            \n",
    "            volume_dragger_1=float(driver.find_element(By.XPATH, \"/html/body/div[1]/div[2]/div[3]/div[1]/div[2]/div[3]/div[2]/div[1]/div[1]\").text)\n",
    "            order_book_volume_percent_n0_1=float(str(driver.find_element(By.XPATH, \"/html/body/div[1]/div[2]/div[3]/div[1]/div[2]/div[3]/div[2]/div[1]/div[2]/div[1]\").text)[:-1])\n",
    "            \n",
    "            difference_n0=(order_book_volume_percent_n0_0)-(order_book_volume_percent_n0_1)\n",
    "            data_list.append([volume_dragger_0, volume_dragger_1, difference_n0])\n",
    "         \n",
    "        \n",
    "        except:\n",
    "            \n",
    "            data_list.append([volume_dragger_0, ((volume_dragger_0)-0.0005),order_book_volume_percent_n0_0])\n",
    "            break\n",
    "\n",
    "    \n",
    "    \n",
    "    sell_limit=[]\n",
    "    \n",
    "    # NOT: ANA LİSTİN İÇERİSİNDE 7 Lİ GRUP VAR,GROUPLARDAK HER BİR GRUPLA BERABER İÇ İÇE TOPLAM 3 GRUP VAR\n",
    "\n",
    "    while True:\n",
    "        sell_limit_clusters=[]\n",
    "\n",
    "        for i in data_list:\n",
    "            if len(sell_limit_clusters)<7:\n",
    "                sell_limit_clusters.append(i)   \n",
    "            else:\n",
    "                break\n",
    "            \n",
    "        data_list.pop(0)\n",
    "        sell_limit.append(sell_limit_clusters)\n",
    "\n",
    "        if len(data_list)<7:\n",
    "            break\n",
    "        else:\n",
    "            continue\n",
    "\n",
    "\n",
    "    # en büyük cluster\n",
    "    \n",
    "    sell_limit=pd.DataFrame(sell_limit)\n",
    "\n",
    "    sum_clusters=[]\n",
    "\n",
    "    for index, row in sell_limit.iterrows():\n",
    "        sum_clusters.append([row[0][0], row[6][1],sum([ row[i][2] for i in range(7) ])]) \n",
    "\n",
    "    sum_clusters=pd.DataFrame(sum_clusters)\n",
    "\n",
    "\n",
    "    sum_clusters.rename(columns={0: 'P1', 1: 'P2', 2: 'Clusters_Rate'},inplace=True)\n",
    "    \n",
    "\n",
    "\n",
    "    return sum_clusters.loc[sum_clusters.Clusters_Rate==(max(sum_clusters.Clusters_Rate))]\n",
    "\n",
    "\n",
    "\n",
    "\n",
    "  "
   ]
  },
  {
   "cell_type": "code",
   "execution_count": 6,
   "id": "821dc98b",
   "metadata": {},
   "outputs": [],
   "source": [
    "sell_limitt=sell_limit()"
   ]
  },
  {
   "cell_type": "code",
   "execution_count": 7,
   "id": "eb393b10",
   "metadata": {
    "scrolled": false
   },
   "outputs": [
    {
     "name": "stdout",
     "output_type": "stream",
     "text": [
      "        P1      P2  Clusters_Rate\n",
      "125  1.085  1.0815           2.72\n"
     ]
    }
   ],
   "source": [
    "print(sell_limitt)"
   ]
  },
  {
   "cell_type": "markdown",
   "id": "fce62910",
   "metadata": {},
   "source": [
    "To All"
   ]
  },
  {
   "cell_type": "code",
   "execution_count": 8,
   "id": "dc81222c",
   "metadata": {},
   "outputs": [],
   "source": [
    "def sell_limit():\n",
    "    \n",
    "    \n",
    "    sell_limit_data_list = []\n",
    "    buy_stop_data_list=[]\n",
    "\n",
    "    # !!!gelen fiyat verisi EURUSD için 5 rakama göre ayarlandı Örn:1.1295 ya da 1.1300\n",
    "\n",
    "    while True:\n",
    "        \n",
    "        try:\n",
    "            #P1\n",
    "            volume_dragger_n0_0=float(driver.find_element(By.XPATH, \"/html/body/div[1]/div[2]/div[3]/div[1]/div[2]/div[3]/div[2]/div[1]/div[1]\").text)\n",
    "            \n",
    "            #sell limit 0\n",
    "            volume_percent_n0_0=float(str(driver.find_element(By.XPATH, \"/html/body/div[1]/div[2]/div[3]/div[1]/div[2]/div[3]/div[2]/div[1]/div[2]/div[1]\").text)[:-1])\n",
    "            \n",
    "            #buy stop 0\n",
    "            volume_percent_n1_0=float(str(driver.find_element(By.XPATH, \"/html/body/div[1]/div[2]/div[3]/div[1]/div[2]/div[3]/div[2]/div[1]/div[2]/div[2]\").text)[:-1])\n",
    "            \n",
    "            #down button\n",
    "            driver.execute_script(\"arguments[0].click();\",arrow_down)\n",
    "            \n",
    "            #P2\n",
    "            volume_dragger_n0_1=float(driver.find_element(By.XPATH, \"/html/body/div[1]/div[2]/div[3]/div[1]/div[2]/div[3]/div[2]/div[1]/div[1]\").text)\n",
    "            \n",
    "            #sell limit 1\n",
    "            volume_percent_n0_1=float(str(driver.find_element(By.XPATH, \"/html/body/div[1]/div[2]/div[3]/div[1]/div[2]/div[3]/div[2]/div[1]/div[2]/div[1]\").text)[:-1])\n",
    "            \n",
    "            #buy stop 1\n",
    "            volume_percent_n1_1=float(str(driver.find_element(By.XPATH, \"/html/body/div[1]/div[2]/div[3]/div[1]/div[2]/div[3]/div[2]/div[1]/div[2]/div[2]\").text)[:-1])\n",
    "            \n",
    "            \n",
    "            #diff (volume_percent_0-volume_percent_1)\n",
    "                \n",
    "                #sell limit\n",
    "            difference_n0=(volume_percent_n0_0)-(volume_percent_n0_1)\n",
    "            sell_limit_data_list.append([volume_dragger_n0_0, volume_dragger_n0_1, difference_n0])\n",
    "            \n",
    "                #buy stop\n",
    "            difference_n1=(volume_percent_n1_0)-(volume_percent_n1_1)\n",
    "            buy_stop_data_list.append([volume_dragger_n0_0, volume_dragger_n0_1, difference_n1])\n",
    "            \n",
    "         \n",
    "        \n",
    "        except:\n",
    "            \n",
    "            sell_limit_data_list.append([volume_dragger_n0_0, (volume_dragger_n0_0-0.0005),volume_percent_n0_0])\n",
    "            buy_stop_data_list.append([volume_dragger_n0_0, (volume_dragger_n0_0-0.0005),volume_percent_n1_0])\n",
    "            break\n",
    "\n",
    "    \n",
    "\n",
    "    sell_limit=[]\n",
    "    \n",
    "    # NOT: ANA LİSTİN İÇERİSİNDE 7 Lİ GRUP VAR,GROUPLARDAK HER BİR GRUPLA BERABER İÇ İÇE TOPLAM 3 GRUP VAR\n",
    "\n",
    "    while True:\n",
    "        sell_limit_clusters=[]\n",
    "\n",
    "        for i in sell_limit_data_list:\n",
    "            if len(sell_limit_clusters)<7:\n",
    "                sell_limit_clusters.append(i)   \n",
    "            else:\n",
    "                break\n",
    "            \n",
    "        sell_limit_data_list.pop(0)\n",
    "        sell_limit.append(sell_limit_clusters)\n",
    "\n",
    "        if len(data_list)<7:\n",
    "            break\n",
    "        else:\n",
    "            continue\n",
    "\n",
    "\n",
    "    # en büyük cluster\n",
    "    \n",
    "    sell_limit=pd.DataFrame(sell_limit)\n",
    "\n",
    "    sum_clusters=[]\n",
    "\n",
    "    for index, row in sell_limit.iterrows():\n",
    "        sum_clusters.append([row[0][0], row[6][1],sum([ row[i][2] for i in range(7) ])]) \n",
    "\n",
    "    sum_clusters=pd.DataFrame(sum_clusters)\n",
    "\n",
    "\n",
    "    sum_clusters.rename(columns={0: 'P1', 1: 'P2', 2: 'Clusters_Rate'},inplace=True)\n",
    "    \n",
    "\n",
    "\n",
    "    return sum_clusters.loc[sum_clusters.Clusters_Rate==(max(sum_clusters.Clusters_Rate))]"
   ]
  },
  {
   "cell_type": "code",
   "execution_count": 9,
   "id": "66d8c11f",
   "metadata": {},
   "outputs": [],
   "source": [
    "from datetime import datetime"
   ]
  },
  {
   "cell_type": "code",
   "execution_count": 10,
   "id": "18d5c3cb",
   "metadata": {
    "scrolled": true
   },
   "outputs": [
    {
     "data": {
      "text/plain": [
       "datetime.datetime(2023, 5, 28, 1, 34, 21, 323502)"
      ]
     },
     "execution_count": 10,
     "metadata": {},
     "output_type": "execute_result"
    }
   ],
   "source": [
    "datetime.now()"
   ]
  },
  {
   "cell_type": "code",
   "execution_count": 12,
   "id": "ed286d40",
   "metadata": {},
   "outputs": [
    {
     "data": {
      "text/plain": [
       "'C:\\\\Users\\\\SnA Consulting\\\\Trade'"
      ]
     },
     "execution_count": 12,
     "metadata": {},
     "output_type": "execute_result"
    }
   ],
   "source": [
    "pwd"
   ]
  }
 ],
 "metadata": {
  "kernelspec": {
   "display_name": "Python 3 (ipykernel)",
   "language": "python",
   "name": "python3"
  },
  "language_info": {
   "codemirror_mode": {
    "name": "ipython",
    "version": 3
   },
   "file_extension": ".py",
   "mimetype": "text/x-python",
   "name": "python",
   "nbconvert_exporter": "python",
   "pygments_lexer": "ipython3",
   "version": "3.9.7"
  }
 },
 "nbformat": 4,
 "nbformat_minor": 5
}
